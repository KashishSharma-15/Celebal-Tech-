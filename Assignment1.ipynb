{
 "cells": [
  {
   "cell_type": "code",
   "execution_count": 4,
   "id": "61500e93",
   "metadata": {},
   "outputs": [
    {
     "name": "stdout",
     "output_type": "stream",
     "text": [
      "       * \n",
      "      * * \n",
      "     * * * \n",
      "    * * * * \n",
      "   * * * * * \n",
      "  * * * * * * \n",
      " * * * * * * * \n",
      "* * * * * * * * \n"
     ]
    }
   ],
   "source": [
    "def pyramid(n):\n",
    "    for i in range(n):\n",
    "        print(' ' * (n - i - 1) + '* ' * (i + 1))\n",
    "\n",
    "# Example usage\n",
    "n = 8\n",
    "pyramid(n)"
   ]
  },
  {
   "cell_type": "code",
   "execution_count": 3,
   "id": "719adc7b",
   "metadata": {},
   "outputs": [
    {
     "name": "stdout",
     "output_type": "stream",
     "text": [
      "*  *  *  *  *  *  *  *  \n",
      "   *  *  *  *  *  *  *  \n",
      "      *  *  *  *  *  *  \n",
      "         *  *  *  *  *  \n",
      "            *  *  *  *  \n",
      "               *  *  *  \n",
      "                  *  *  \n",
      "                     *  \n"
     ]
    }
   ],
   "source": [
    "def upper_triangular(n):\n",
    "    for i in range(n):\n",
    "        for j in range(n):\n",
    "            if j >= i:\n",
    "                print('*', end='  ')\n",
    "            else:\n",
    "                print(' ', end='  ')\n",
    "        print()\n",
    "\n",
    "# Example usage\n",
    "n = 8\n",
    "upper_triangular(n)"
   ]
  },
  {
   "cell_type": "code",
   "execution_count": 2,
   "id": "3caef2e9",
   "metadata": {},
   "outputs": [
    {
     "name": "stdout",
     "output_type": "stream",
     "text": [
      "*  \n",
      "*  *  \n",
      "*  *  *  \n",
      "*  *  *  *  \n",
      "*  *  *  *  *  \n",
      "*  *  *  *  *  *  \n",
      "*  *  *  *  *  *  *  \n",
      "*  *  *  *  *  *  *  *  \n"
     ]
    }
   ],
   "source": [
    "def lower_triangular(n):\n",
    "    for i in range (n):\n",
    "        for j in range (i+1):\n",
    "            print('*', end = '  ')\n",
    "        print()\n",
    "n = 8\n",
    "lower_triangular(n)"
   ]
  }
 ],
 "metadata": {
  "kernelspec": {
   "display_name": "Python 3 (ipykernel)",
   "language": "python",
   "name": "python3"
  },
  "language_info": {
   "codemirror_mode": {
    "name": "ipython",
    "version": 3
   },
   "file_extension": ".py",
   "mimetype": "text/x-python",
   "name": "python",
   "nbconvert_exporter": "python",
   "pygments_lexer": "ipython3",
   "version": "3.11.5"
  }
 },
 "nbformat": 4,
 "nbformat_minor": 5
}
