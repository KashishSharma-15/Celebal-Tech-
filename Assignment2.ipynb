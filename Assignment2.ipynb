{
 "cells": [
  {
   "cell_type": "code",
   "execution_count": 5,
   "id": "eada6d50",
   "metadata": {},
   "outputs": [
    {
     "name": "stdout",
     "output_type": "stream",
     "text": [
      "Select operation:\n",
      "1. Add\n",
      "2. Subtract\n",
      "3. Multiply\n",
      "4. Divide\n",
      "Enter choice (1/2/3/4): 2\n",
      "Enter first number: 54\n",
      "Enter second number: 22\n",
      "The subtraction of 54 and 22 is: 32\n"
     ]
    }
   ],
   "source": [
    "def add(x, y):\n",
    "    return x + y\n",
    "\n",
    "def subtract(x, y):\n",
    "    return x - y\n",
    "\n",
    "def multiply(x, y):\n",
    "    return x * y\n",
    "\n",
    "def divide(x, y):\n",
    "    if y == 0:\n",
    "        return \"Error! Division by zero.\"\n",
    "    else:\n",
    "        return x / y\n",
    "\n",
    "def calculator():\n",
    "    print(\"Select operation:\")\n",
    "    print(\"1. Add\")\n",
    "    print(\"2. Subtract\")\n",
    "    print(\"3. Multiply\")\n",
    "    print(\"4. Divide\")\n",
    "    \n",
    "    choice = input(\"Enter choice (1/2/3/4): \")\n",
    "    \n",
    "    if choice in ['1', '2', '3', '4']:\n",
    "        x = int(input(\"Enter first number: \"))\n",
    "        y = int(input(\"Enter second number: \"))\n",
    "        \n",
    "        if choice == '1':\n",
    "            print(f\"The addition of {x} and {y} is: {add(x,y)}\")\n",
    "        elif choice == '2':\n",
    "            print(f\"The subtraction of {x} and {y} is: {subtract(x,y)}\")\n",
    "        elif choice == '3':\n",
    "            print(f\"The multiplication of {x} and {y} is: {multiply(x,y)}\")\n",
    "        elif choice == '4':\n",
    "            print(f\"The division of {x} and {y} is: {divide(x,y)}\")\n",
    "    else:\n",
    "        print(\"Invalid input\")\n",
    "        \n",
    "calculator()\n"
   ]
  }
 ],
 "metadata": {
  "kernelspec": {
   "display_name": "Python 3 (ipykernel)",
   "language": "python",
   "name": "python3"
  },
  "language_info": {
   "codemirror_mode": {
    "name": "ipython",
    "version": 3
   },
   "file_extension": ".py",
   "mimetype": "text/x-python",
   "name": "python",
   "nbconvert_exporter": "python",
   "pygments_lexer": "ipython3",
   "version": "3.11.5"
  }
 },
 "nbformat": 4,
 "nbformat_minor": 5
}
